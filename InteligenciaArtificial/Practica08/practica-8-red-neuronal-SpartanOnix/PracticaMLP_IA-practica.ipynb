{
 "cells": [
  {
   "cell_type": "markdown",
   "metadata": {
    "colab_type": "text",
    "id": "u9nSEAWI4nof"
   },
   "source": [
    "# Perceptrón multicapa\n",
    "\n",
    "**Autor:** _Benjamin Torres_\n",
    "\n",
    "Marzo 2019\n",
    "\n",
    "En esta práctica implementarás distintos modelos de perceptrón multicapa para clasificar datos haciendo uso de la biblioteca Pytorch.\n",
    "\n",
    "Puedes encontrar la documentación de esta biblioteca en :\n",
    "[pytorch.org](https://pytorch.org/docs/stable/index.html)\n",
    "\n",
    "Escencialmente, PyTorch se encarga de realizar operaciones sobre **tensores**, los cuales pueden crearse haciendo uso de torch.Tensor y pasando como argumento una lista de Python, por ejemplo:\n",
    "\n",
    "```\n",
    "import torch\n",
    "a = torch.Tensor([[1,0,0],[0,1,0],[0,0,1]])\n",
    "```\n",
    "Crea una matriz identidad de 3x3.\n",
    "\n",
    "Podemos ejecutar operaciones con estos tensores de manera similar a como trabajamos con arreglos de Numpy, por ejemplo: \n",
    "\n",
    "*   Suma, con el método add() o haciendo uso del operador +\n",
    "*   Producto cruz, con el método dot() o con el operador @ \n",
    "*   Producto entrada por entrada con el operador *\n",
    "*   Valor máximo, con argmax()\n",
    "*   Cambio de forma con view( (new shape) )\n",
    "\n",
    "Entre las ventajas más importantes de hacer uso de esta biblioteca está la capacidad que tiene para realizar **diferenciación automática**, que permite obtener gradientes de expresiones fácilmente, lo cual es especialmente importante en redes neuronales."
   ]
  },
  {
   "cell_type": "code",
   "execution_count": 2,
   "metadata": {
    "colab": {},
    "colab_type": "code",
    "id": "CyBRuGzjTvxe"
   },
   "outputs": [],
   "source": [
    "import math\n",
    "import random\n",
    "\n",
    "import torch\n",
    "import torch.nn as nn\n",
    "import torch.optim as optim\n",
    "\n",
    "import matplotlib.pyplot as plt\n",
    "#!pip install --force https://github.com/chengs/tqdm/archive/colab.zip\n",
    "from tqdm import tnrange\n"
   ]
  },
  {
   "cell_type": "markdown",
   "metadata": {
    "colab_type": "text",
    "id": "d_-xhrpqpQ5_"
   },
   "source": [
    "Para la implementación de redes neuronales podemos hacer uso de la clase nn.Module.  Ésta se debe extender y se implementa el constructor, así como la manera de hacer *feed forward* con valores de entrada.  Las capas de la red se definen utilizando objetos nn.Linear.\n",
    "\n",
    "## Ejemplo: Perceptrón simple\n",
    "\n",
    "En la siguiente celda puedes encontrar un ejemplo de la implementación de un perceptrón que simula la compuerta AND."
   ]
  },
  {
   "cell_type": "code",
   "execution_count": 2,
   "metadata": {
    "colab": {},
    "colab_type": "code",
    "id": "rT8xE8XlpP0u"
   },
   "outputs": [],
   "source": [
    "class Perceptron(nn.Module):\n",
    "    def __init__(self, input_size, output_size, bias=True):\n",
    "      ''' Puedes definir tantos parámetros de entrada como necesites, en este caso únicamente\n",
    "      el número de elementos de entrada y de salida, observa que debes agregar a self los \n",
    "      objetos nn.Linear que desees usar, en este caso sólo es uno.\n",
    "      '''\n",
    "      super(Perceptron, self).__init__()\n",
    "      self.fc1 = nn.Linear(in_features = input_size, out_features = output_size, bias=bias)\n",
    "\n",
    "    def forward(self, inputX):\n",
    "      '''Debes sobreescibir el método forward, el cual recibe únicamente una entrada:\n",
    "      los valores sobre los que se evaluará la red.\n",
    "      Para hacer pasar la entrada a través de una capa, sólo debes llamarla con la entrada\n",
    "      como parámetro.\n",
    "      Finalmente puedes notar que se puede aplicar una función de activación a\n",
    "      todos los valores resultantes.\n",
    "      Este método debe resultar en, al menos una salida.\n",
    "      '''\n",
    "      out = torch.sigmoid(self.fc1(inputX))\n",
    "      return out"
   ]
  },
  {
   "cell_type": "markdown",
   "metadata": {
    "colab_type": "text",
    "id": "FLtNcAWIwFfJ"
   },
   "source": [
    "Con la clase implementada ahora sólo es necesario definir la manera en la que se realiza el entrenamiento.\n",
    "\n",
    "Puedes implementar un método train que reciba los parámetros necesarios, entre los cuales se encuentra:\n",
    "\n",
    "*   El modelo que se desea entrenar (debe heredar de nn.Module).\n",
    "*   El número de epocas de entrenamiento.\n",
    "*   Los datos de entrenamiento (entradas) y sus etiquetas.\n",
    "*   El criterio de oprimización, es decir, la función de costo, las cuales puedes consultar en [Pytorch loss functions.](https://pytorch.org/docs/stable/nn.html#loss-functions)\n",
    "*   El método de optimizacion, por ejemplo SGD, distintos algoritmos se encuentran implementados en el modulo [torch.optim](https://pytorch.org/docs/stable/optim.html)"
   ]
  },
  {
   "cell_type": "code",
   "execution_count": 8,
   "metadata": {
    "colab": {},
    "colab_type": "code",
    "id": "LYaDo0v0wEr2"
   },
   "outputs": [],
   "source": [
    "def train(net, epochs, data, labels, criterion, optimizer, cuda=False):\n",
    "    '''Entrena la red net, por un numero de epocas \"epochs\",\n",
    "    usando como función de pérdida la definida en \"criterion\" y el\n",
    "    optimizador pasado como parámetro.'''\n",
    "\n",
    "    avg_loss = torch.Tensor()\n",
    "    tqdm_epochs = tnrange(epochs)\n",
    "    for epoch in tqdm_epochs:\n",
    "        for d,label in zip(data,labels):\n",
    "            if(cuda and torch.cuda.is_available()): #Si nuestra PC cuenta con GPU,realizamos cálculos en ella\n",
    "                d = d.cuda()\n",
    "                label = label.cuda()\n",
    "    \n",
    "            optimizer.zero_grad() #limpiamos los gradientes actuales\n",
    "            output = net(d)       #llamar a nuestro objeto red con parámetros es introducirlos a la red\n",
    "            #print(\"o\", output)\n",
    "            #print(\"l\", label)\n",
    "            loss   = criterion(output, label) #calculamos el error de nuestro modelo   \n",
    "            loss.backward()       #calculamos el gradiente del error y se almacena dentro del modelo\n",
    "            optimizer.step()      #usando los datos almacenados y el método seleccionado actualizamos los parámetros de la red\n",
    "\n",
    "            avg_loss = torch.cat([avg_loss, torch.Tensor([loss])],0)\n",
    "\n",
    "    tqdm_epochs.set_description(\"Loss %.6f\"%(avg_loss.sum()/avg_loss.numel()).item())  "
   ]
  },
  {
   "cell_type": "markdown",
   "metadata": {
    "colab_type": "text",
    "id": "xelgxu5V2rE4"
   },
   "source": [
    "Para nuestro ejemplo podemos tratar el problema de aprender la compuerta AND como un problema de regresión, para lo cual puedes usar la función de error min squared error (MSE), que se encuentra implementada como MSELoss().\n",
    "\n",
    "Además podemos utilizar descenso por el gradiente, que puedes encontrar en torch.optim.SGD. A este objeto necesitas\n",
    "pasarle como argumento los parámetros (pesos) del modelo a optimizar, lo cual puedes lograr con el método parameters() de los objetos que heredan de nn.Module; en el caso del descenso por el gradiente tambien debes especificar la taza de aprendizaje.\n",
    "\n",
    "Puedes ejecutar el entrenamiento sobre el modelo de 2 entradas y una única salida pasándolo como argumento al método train."
   ]
  },
  {
   "cell_type": "code",
   "execution_count": 4,
   "metadata": {
    "colab": {
     "base_uri": "https://localhost:8080/",
     "height": 52
    },
    "colab_type": "code",
    "id": "WFkhWi2Lwp-A",
    "outputId": "7aab4c07-78dd-4bb3-fce3-9c386d7a49fd"
   },
   "outputs": [
    {
     "data": {
      "application/vnd.jupyter.widget-view+json": {
       "model_id": "64f46877214c44e5b684a6a7d0c7bb84",
       "version_major": 2,
       "version_minor": 0
      },
      "text/plain": [
       "HBox(children=(IntProgress(value=0, max=10000), HTML(value='')))"
      ]
     },
     "metadata": {},
     "output_type": "display_data"
    },
    {
     "name": "stderr",
     "output_type": "stream",
     "text": [
      "C:\\Python39\\lib\\site-packages\\torch\\nn\\modules\\loss.py:520: UserWarning: Using a target size (torch.Size([])) that is different to the input size (torch.Size([1])). This will likely lead to incorrect results due to broadcasting. Please ensure they have the same size.\n",
      "  return F.mse_loss(input, target, reduction=self.reduction)\n"
     ]
    },
    {
     "name": "stdout",
     "output_type": "stream",
     "text": [
      "\n"
     ]
    }
   ],
   "source": [
    "# Entradas\n",
    "X_AND = torch.Tensor([[0,0],\n",
    "                 [0,1],\n",
    "                 [1,0],\n",
    "                 [1,1]])\n",
    "# Etiquetas\n",
    "Y_AND = torch.Tensor([0,0,0,1])\n",
    "\n",
    "Perceptron_AND = Perceptron(2,1)\n",
    "criterio  = nn.MSELoss()\n",
    "optimizer = torch.optim.SGD(Perceptron_AND.parameters(), lr=0.1)\n",
    "\n",
    "train(Perceptron_AND, 10000, X_AND, Y_AND, criterio, optimizer)\n",
    "#train(Perceptron_AND, 2, X_AND, Y_AND, criterio, optimizer)\n"
   ]
  },
  {
   "cell_type": "markdown",
   "metadata": {
    "colab_type": "text",
    "id": "GJBFGm6A3-Aq"
   },
   "source": [
    "Ahora para realizar predicciones con el modelo obtenido unicamente debes pasar los datos como parámetro a la red, la cual ejecutará de manera automática el método forward.\n",
    "Dado que el problema fue modelado como regresión observarás que los primeros 3 valores son muy cercanos a 0 y el último tiene un valor muy cercano a 1."
   ]
  },
  {
   "cell_type": "code",
   "execution_count": 5,
   "metadata": {
    "colab": {
     "base_uri": "https://localhost:8080/",
     "height": 86
    },
    "colab_type": "code",
    "id": "gT1IaZZ84HUw",
    "outputId": "e691d4e7-fd59-4f3a-99c6-67fd7f4ae5b0"
   },
   "outputs": [
    {
     "name": "stdout",
     "output_type": "stream",
     "text": [
      "tensor([[7.4600e-05],\n",
      "        [3.8148e-02],\n",
      "        [3.8161e-02],\n",
      "        [9.5473e-01]], grad_fn=<SigmoidBackward0>)\n"
     ]
    }
   ],
   "source": [
    "resultados = Perceptron_AND(X_AND)\n",
    "print(resultados)"
   ]
  },
  {
   "cell_type": "markdown",
   "metadata": {
    "colab_type": "text",
    "id": "8Yv_M-M6-Oez"
   },
   "source": [
    "## Dos perceptrones en una capa\n",
    "\n",
    "Si quisiéramos resolverlo como un problema de clasificación debemos realizar dos cambios:\n",
    "\n",
    "*   Cambiar el formato de las etiquetas para que se encuentren en [one-hot](https://en.wikipedia.org/wiki/One-hot).  El primer perceptrón representará al 0 y el segundo, al 1.\n",
    "*   Usar una función de costo que evalúe el error de clasificación, como la entropía cruzada binaria, implementada en PyTorch como BCELoss()."
   ]
  },
  {
   "cell_type": "code",
   "execution_count": 6,
   "metadata": {
    "colab": {
     "base_uri": "https://localhost:8080/",
     "height": 202
    },
    "colab_type": "code",
    "id": "aX4fCyJr5OSl",
    "outputId": "ff367392-40f3-4ce1-cf99-171244e9f033"
   },
   "outputs": [
    {
     "data": {
      "application/vnd.jupyter.widget-view+json": {
       "model_id": "91e1813043e940b4b4fdc83e1bee1ff3",
       "version_major": 2,
       "version_minor": 0
      },
      "text/plain": [
       "HBox(children=(IntProgress(value=0, max=50000), HTML(value='')))"
      ]
     },
     "metadata": {},
     "output_type": "display_data"
    },
    {
     "name": "stdout",
     "output_type": "stream",
     "text": [
      "\n"
     ]
    }
   ],
   "source": [
    "Y_one_hot = torch.Tensor([[1,0],[1,0],[1,0],[0,1]])\n",
    "Perceptron_AND_C = Perceptron(2,2)\n",
    "criterio_clasificacion =  nn.BCELoss()\n",
    "optimizer = torch.optim.SGD(Perceptron_AND_C.parameters(), lr=0.1)\n",
    "train(Perceptron_AND_C, 50000, X_AND, Y_one_hot, criterio_clasificacion, optimizer)"
   ]
  },
  {
   "cell_type": "markdown",
   "metadata": {
    "colab_type": "text",
    "id": "fRm-caJH_MDP"
   },
   "source": [
    "Nota que el resultado será alimentado a la funcion Softmax para que puedas interpretar los resultados como probabilidades.  La salida con el valor más alto es la clase ganadora."
   ]
  },
  {
   "cell_type": "code",
   "execution_count": 7,
   "metadata": {
    "colab": {
     "base_uri": "https://localhost:8080/",
     "height": 86
    },
    "colab_type": "code",
    "id": "uVLuPXEg68OB",
    "outputId": "ef36efbb-4377-468e-e6ff-8794845569d4"
   },
   "outputs": [
    {
     "name": "stdout",
     "output_type": "stream",
     "text": [
      "tensor([[0.2972, 0.1750],\n",
      "        [0.2966, 0.1753],\n",
      "        [0.2966, 0.1753],\n",
      "        [0.1096, 0.4743]], grad_fn=<SoftmaxBackward0>)\n"
     ]
    }
   ],
   "source": [
    "resultados_clasificacion = Perceptron_AND_C(X_AND)\n",
    "print(nn.functional.softmax(resultados_clasificacion,dim=0))"
   ]
  },
  {
   "cell_type": "markdown",
   "metadata": {
    "colab_type": "text",
    "id": "vQmEcw0YpG9h"
   },
   "source": [
    "## Perceptrón multicapa\n",
    "\n",
    "### Ejercicio 1: XOR\n",
    "\n",
    "Haciendo uso de un perceptrón multicapa (MLP, por sus siglas en inglés) crea un modelo capaz de simular la compuerta logica XOR considerandolo un problema de regresión.\n",
    "\n",
    "Para esta tarea debes usar tres capas:\n",
    "* La capa de entrada (los valores de entrada a la compuerta)\n",
    "* Una capa oculta con 3 unidades\n",
    "* Una capa de salida con una unica neurona \n",
    "\n",
    "Deberas especificar una **taza de aprendizaje** adecuada así como el número de iteraciones necesario para lograr el aprendizaje."
   ]
  },
  {
   "cell_type": "code",
   "execution_count": 8,
   "metadata": {
    "colab": {},
    "colab_type": "code",
    "id": "RRC5XVB6UyJu"
   },
   "outputs": [],
   "source": [
    "X_XOR = torch.Tensor([[0,0],\n",
    "                      [0,1],\n",
    "                      [1,0],\n",
    "                      [1,1]])\n",
    "Y_XOR = torch.Tensor([0,1,1,0])"
   ]
  },
  {
   "cell_type": "markdown",
   "metadata": {},
   "source": [
    "    Modelos de la red neuronal de tres capas, la primera con 2 neuronas de entrada, la segunda con 3 neuronas y la tercera con 1 neurona de salida."
   ]
  },
  {
   "cell_type": "code",
   "execution_count": 22,
   "metadata": {
    "colab": {},
    "colab_type": "code",
    "id": "ulVM8HcoVip5"
   },
   "outputs": [],
   "source": [
    "class XOR(nn.Module):\n",
    "    def __init__(self, input_size, output_size):\n",
    "        super(XOR,self).__init__()\n",
    "        self.fc1 = nn.Linear(in_features = input_size, out_features = 3, bias = True)\n",
    "        self.fc2 = nn.Linear(in_features = 3, out_features = 3, bias = True)\n",
    "        self.fc3 = nn.Linear(in_features = 3, out_features = output_size, bias = True)\n",
    "\n",
    "    def forward(self, inputX):\n",
    "        out1 = torch.sigmoid(self.fc1(inputX))\n",
    "        out2 = torch.sigmoid(self.fc2(out1))\n",
    "        out3 = torch.sigmoid(self.fc3(out2))\n",
    "        return out3"
   ]
  },
  {
   "cell_type": "markdown",
   "metadata": {},
   "source": [
    "    Obtenemos los datos de entrenamiento:"
   ]
  },
  {
   "cell_type": "code",
   "execution_count": 23,
   "metadata": {
    "colab": {
     "base_uri": "https://localhost:8080/",
     "height": 35
    },
    "colab_type": "code",
    "id": "uyDBhj6NwyIb",
    "outputId": "f408b126-922f-4271-cf6f-61e96262a0e1"
   },
   "outputs": [
    {
     "data": {
      "application/vnd.jupyter.widget-view+json": {
       "model_id": "41fcd74618704286a2b7f0fc48e64bba",
       "version_major": 2,
       "version_minor": 0
      },
      "text/plain": [
       "HBox(children=(IntProgress(value=0, max=25000), HTML(value='')))"
      ]
     },
     "metadata": {},
     "output_type": "display_data"
    },
    {
     "name": "stderr",
     "output_type": "stream",
     "text": [
      "C:\\Python39\\lib\\site-packages\\torch\\nn\\modules\\loss.py:520: UserWarning: Using a target size (torch.Size([])) that is different to the input size (torch.Size([1])). This will likely lead to incorrect results due to broadcasting. Please ensure they have the same size.\n",
      "  return F.mse_loss(input, target, reduction=self.reduction)\n"
     ]
    }
   ],
   "source": [
    "XORNet = XOR(2,1)\n",
    "#Escogemos la función de error para el modelo (entropia cruzada)\n",
    "criterio   = nn.MSELoss()\n",
    "optimizer  = torch.optim.SGD(XORNet.parameters(), lr=0.1)\n",
    "#ejecuta train descomentando y completando esta linea\n",
    "train(XORNet, 25000, X_XOR, Y_XOR, criterio, optimizer)"
   ]
  },
  {
   "cell_type": "code",
   "execution_count": 26,
   "metadata": {
    "colab": {
     "base_uri": "https://localhost:8080/",
     "height": 156
    },
    "colab_type": "code",
    "id": "kIM-zX_5ycaG",
    "outputId": "9972af49-aa7b-4027-dac7-9b7b80ff24c8"
   },
   "outputs": [
    {
     "name": "stdout",
     "output_type": "stream",
     "text": [
      "tensor([[0.0179],\n",
      "        [0.9863],\n",
      "        [0.9831],\n",
      "        [0.0156]], grad_fn=<SigmoidBackward0>)\n"
     ]
    }
   ],
   "source": [
    "predicciones= XORNet(X_XOR)\n",
    "print(predicciones)"
   ]
  },
  {
   "cell_type": "markdown",
   "metadata": {
    "colab_type": "text",
    "id": "59mYQEaUyPLo"
   },
   "source": [
    "### Ejercicio 2:\n",
    "\n",
    "Encuentra un modelo para clasificar los datos contenidos en Xs y Ys, para lo cual debes encontrar el numero de capas y neuronas adecuado, así como una taza de aprendizaje.\n",
    "\n",
    "HINT: Puedes utilizar [Playground.tensorflow](https://playground.tensorflow.org) para buscar gráficamente los modelos y al final implementarlos."
   ]
  },
  {
   "cell_type": "code",
   "execution_count": 3,
   "metadata": {
    "colab": {},
    "colab_type": "code",
    "id": "kGBvQYnn0KoZ"
   },
   "outputs": [],
   "source": [
    "def to_learn1(x,y):\n",
    "    return 1 if x * y >= 0 else -1;\n",
    "\n",
    "def asignar_color(clase):\n",
    "    if(clase==1):\n",
    "        return 'r'\n",
    "    elif(clase==-1):\n",
    "        return 'b'"
   ]
  },
  {
   "cell_type": "code",
   "execution_count": 4,
   "metadata": {
    "colab": {},
    "colab_type": "code",
    "id": "5pZNT-cOvEUW"
   },
   "outputs": [],
   "source": [
    "Xs = [random.uniform(-5,5) for _ in range(0,50) ]\n",
    "Ys = [random.uniform(-5,5) for _ in range(0,50) ]\n",
    "Zs = [to_learn1(punto[0],punto[1]) for punto in zip(Xs,Ys)]\n",
    "Colores = [asignar_color(p) for p in Zs]\n",
    "#print(Xs)\n",
    "#print(Ys)\n",
    "#print(Zs)\n",
    "#print(Colores)\n",
    "def one_hot(value):\n",
    "    return [1, 0] if value == 1 else [0, 1]"
   ]
  },
  {
   "cell_type": "code",
   "execution_count": 5,
   "metadata": {
    "colab": {
     "base_uri": "https://localhost:8080/",
     "height": 364
    },
    "colab_type": "code",
    "id": "DSpedQNjwEtj",
    "outputId": "d65c522d-7c1b-4113-cdb4-76b4a3a62958"
   },
   "outputs": [
    {
     "data": {
      "text/plain": [
       "[]"
      ]
     },
     "execution_count": 5,
     "metadata": {},
     "output_type": "execute_result"
    },
    {
     "data": {
      "image/png": "[encoded data removed]",
      "text/plain": [
       "<Figure size 432x288 with 1 Axes>"
      ]
     },
     "metadata": {
      "needs_background": "light"
     },
     "output_type": "display_data"
    }
   ],
   "source": [
    "plt.title(\"Datos del ejercicio 2\")\n",
    "plt.scatter(Xs,Ys,c=Colores)\n",
    "plt.plot()"
   ]
  },
  {
   "cell_type": "markdown",
   "metadata": {},
   "source": [
    "    Modelos de la red neuronal de tres capas, con 2 neuronas de entrada, la primera con 6 neuronas, la segunda con 4 neuronas y la tercera con 2 neuronas de salida."
   ]
  },
  {
   "cell_type": "code",
   "execution_count": 6,
   "metadata": {
    "colab": {},
    "colab_type": "code",
    "id": "kAoWZCypCo68"
   },
   "outputs": [],
   "source": [
    "class RedXsYs(nn.Module):\n",
    "    def __init__(self, input_size, output_size):\n",
    "        super(RedXsYs,self).__init__()\n",
    "        self.fc1 = nn.Linear(in_features = input_size, out_features = 6, bias = True)\n",
    "        self.fc2 = nn.Linear(in_features = 6, out_features = 4, bias = True)\n",
    "        self.fc3 = nn.Linear(in_features = 4, out_features = output_size, bias = True)\n",
    "\n",
    "    def forward(self, inputX):\n",
    "        out1 = torch.sigmoid(self.fc1(inputX))\n",
    "        out2 = torch.sigmoid(self.fc2(out1))\n",
    "        out3 = torch.sigmoid(self.fc3(out2))\n",
    "        return out3"
   ]
  },
  {
   "cell_type": "markdown",
   "metadata": {},
   "source": [
    "    Obtenemos los datos de entrenamiento:"
   ]
  },
  {
   "cell_type": "code",
   "execution_count": 9,
   "metadata": {},
   "outputs": [
    {
     "data": {
      "application/vnd.jupyter.widget-view+json": {
       "model_id": "b79b39b3e2ab45cc8ea6de4bacff3a69",
       "version_major": 2,
       "version_minor": 0
      },
      "text/plain": [
       "HBox(children=(IntProgress(value=0, max=10000), HTML(value='')))"
      ]
     },
     "metadata": {},
     "output_type": "display_data"
    },
    {
     "name": "stdout",
     "output_type": "stream",
     "text": [
      "\n"
     ]
    }
   ],
   "source": [
    "XsYsNet = RedXsYs(2,2)\n",
    "# Necesitamos convertir los puntos a tensores.\n",
    "X_XsYS = torch.Tensor([[x[0], x[1]] for x in zip(Xs, Ys)])\n",
    "Y_Zs = torch.Tensor([one_hot(value) for value in Zs])\n",
    "#Escogemos la función de error para el modelo (entropia cruzada)\n",
    "criterio   = nn.MSELoss()\n",
    "optimizer  = torch.optim.SGD(XsYsNet.parameters(), lr=0.1)\n",
    "#ejecuta train descomentando y completando esta linea\n",
    "train(XsYsNet, 10000, X_XsYS, Y_Zs, criterio, optimizer)"
   ]
  },
  {
   "cell_type": "code",
   "execution_count": 10,
   "metadata": {},
   "outputs": [
    {
     "name": "stdout",
     "output_type": "stream",
     "text": [
      "tensor([[0.0273, 0.0116],\n",
      "        [0.0272, 0.0117],\n",
      "        [0.0101, 0.0315],\n",
      "        [0.0100, 0.0316],\n",
      "        [0.0101, 0.0314],\n",
      "        [0.0272, 0.0117],\n",
      "        [0.0270, 0.0118],\n",
      "        [0.0272, 0.0116],\n",
      "        [0.0273, 0.0116],\n",
      "        [0.0100, 0.0316],\n",
      "        [0.0273, 0.0116],\n",
      "        [0.0273, 0.0116],\n",
      "        [0.0271, 0.0117],\n",
      "        [0.0272, 0.0116],\n",
      "        [0.0272, 0.0116],\n",
      "        [0.0271, 0.0117],\n",
      "        [0.0102, 0.0312],\n",
      "        [0.0100, 0.0316],\n",
      "        [0.0272, 0.0117],\n",
      "        [0.0100, 0.0316],\n",
      "        [0.0273, 0.0116],\n",
      "        [0.0100, 0.0316],\n",
      "        [0.0272, 0.0116],\n",
      "        [0.0272, 0.0117],\n",
      "        [0.0272, 0.0117],\n",
      "        [0.0272, 0.0117],\n",
      "        [0.0101, 0.0313],\n",
      "        [0.0100, 0.0316],\n",
      "        [0.0273, 0.0116],\n",
      "        [0.0100, 0.0316],\n",
      "        [0.0273, 0.0116],\n",
      "        [0.0101, 0.0314],\n",
      "        [0.0269, 0.0118],\n",
      "        [0.0102, 0.0312],\n",
      "        [0.0101, 0.0313],\n",
      "        [0.0100, 0.0316],\n",
      "        [0.0100, 0.0316],\n",
      "        [0.0101, 0.0316],\n",
      "        [0.0272, 0.0116],\n",
      "        [0.0273, 0.0116],\n",
      "        [0.0270, 0.0117],\n",
      "        [0.0273, 0.0116],\n",
      "        [0.0273, 0.0116],\n",
      "        [0.0273, 0.0116],\n",
      "        [0.0272, 0.0116],\n",
      "        [0.0270, 0.0117],\n",
      "        [0.0100, 0.0316],\n",
      "        [0.0100, 0.0316],\n",
      "        [0.0100, 0.0316],\n",
      "        [0.0100, 0.0316]], grad_fn=<SoftmaxBackward0>)\n"
     ]
    }
   ],
   "source": [
    "resultados_clasificacion = XsYsNet(X_XsYS)\n",
    "print(nn.functional.softmax(resultados_clasificacion,dim=0))"
   ]
  },
  {
   "cell_type": "markdown",
   "metadata": {
    "colab_type": "text",
    "id": "z2zA-PrEz-rL"
   },
   "source": [
    "### Ejercicio 3:\n",
    "\n",
    "Encuentra un modelo para clasificar los datos contenidos en X2s y Y2s, para lo cual debes encontrar el numero de capas y neuronas adecuado, así como una taza de aprendizaje."
   ]
  },
  {
   "cell_type": "code",
   "execution_count": 35,
   "metadata": {
    "colab": {},
    "colab_type": "code",
    "id": "fdNdIRCN0AEo"
   },
   "outputs": [],
   "source": [
    "def to_learn2(deltaT,label):\n",
    "    n=100\n",
    "    Xs = []\n",
    "    Ys = []\n",
    "    Cs = [label]*n\n",
    "    for i in range(0,n):\n",
    "        r = i / n * 20;\n",
    "        t = 1.3 * i / n * 2 * math.pi + deltaT;\n",
    "        x = r * math.sin(t) + random.uniform(-1, 1);\n",
    "        y = r * math.cos(t) + random.uniform(-1, 1);\n",
    "        Xs.append(x)\n",
    "        Ys.append(y)\n",
    "    return Xs,Ys,Cs\n",
    "\n",
    "def create_data():\n",
    "    x1,y1,cs1 = to_learn2(0,-1)\n",
    "    x2,y2,cs2 = to_learn2(math.pi,1)\n",
    "    x1.extend(x2)\n",
    "    y1.extend(y2)\n",
    "    cs1.extend(cs2)\n",
    "    colores=[asignar_color(p) for p in cs1]\n",
    "    return x1,y1,cs1,colores\n",
    "\n",
    "X2s, Y2s,clases,colores= create_data()"
   ]
  },
  {
   "cell_type": "code",
   "execution_count": 36,
   "metadata": {
    "colab": {
     "base_uri": "https://localhost:8080/",
     "height": 364
    },
    "colab_type": "code",
    "id": "YNgohSTL18dx",
    "outputId": "3d939a69-9c0a-4782-de12-474ed22e4d75"
   },
   "outputs": [
    {
     "data": {
      "text/plain": [
       "[]"
      ]
     },
     "execution_count": 36,
     "metadata": {},
     "output_type": "execute_result"
    },
    {
     "data": {
      "image/png": "[encoded data removed]",
      "text/plain": [
       "<Figure size 432x288 with 1 Axes>"
      ]
     },
     "metadata": {
      "needs_background": "light"
     },
     "output_type": "display_data"
    }
   ],
   "source": [
    "plt.title(\"Datos del ejercicio 3\")\n",
    "plt.scatter(X2s, Y2s, c=colores)\n",
    "plt.plot()"
   ]
  },
  {
   "cell_type": "markdown",
   "metadata": {},
   "source": [
    "    Modelos de la red neuronal de tres capas, con 2 neuronas de entrada, la primera con 8 neuronas, la segunda con 16 neuronas y la tercera con 2 neuronas de salida."
   ]
  },
  {
   "cell_type": "code",
   "execution_count": 43,
   "metadata": {
    "colab": {},
    "colab_type": "code",
    "id": "l0Ch5Yp9Cj1G"
   },
   "outputs": [],
   "source": [
    "class RedX2sY2s(nn.Module):\n",
    "    def __init__(self, input_output_size):\n",
    "        super(RedX2sY2s,self).__init__()\n",
    "        self.fc1 = nn.Linear(in_features = input_output_size, out_features = 8, bias = True)\n",
    "        self.fc2 = nn.Linear(in_features = 8, out_features = 16, bias = True)\n",
    "        self.fc3 = nn.Linear(in_features = 16, out_features = input_output_size, bias = True)\n",
    "\n",
    "    def forward(self, inputX):\n",
    "        out1 = torch.sigmoid(self.fc1(inputX))\n",
    "        out2 = torch.sigmoid(self.fc2(out1))\n",
    "        out3 = torch.sigmoid(self.fc3(out2))\n",
    "        return out3"
   ]
  },
  {
   "cell_type": "markdown",
   "metadata": {},
   "source": [
    "    Obtenemos los datos de entrenamiento:"
   ]
  },
  {
   "cell_type": "code",
   "execution_count": 46,
   "metadata": {},
   "outputs": [
    {
     "data": {
      "application/vnd.jupyter.widget-view+json": {
       "model_id": "372517441f004fe5b02a823027efcdf9",
       "version_major": 2,
       "version_minor": 0
      },
      "text/plain": [
       "HBox(children=(IntProgress(value=0, max=10000), HTML(value='')))"
      ]
     },
     "metadata": {},
     "output_type": "display_data"
    }
   ],
   "source": [
    "X2sY2sNet = RedX2sY2s(2)\n",
    "# Necesitamos convertir los puntos a tensores.\n",
    "X_X2sY2s = torch.Tensor([[x[0], x[1]] for x in zip(X2s, Y2s)])\n",
    "Y_cs = torch.Tensor([one_hot(value) for value in clases])\n",
    "#Escogemos la función de error para el modelo (entropia cruzada)\n",
    "criterio   = nn.BCELoss()\n",
    "optimizer  = torch.optim.SGD(X2sY2sNet.parameters(), lr=0.1)\n",
    "#ejecuta train descomentando y completando esta linea\n",
    "train(X2sY2sNet, 10000, X_X2sY2s, Y_cs, criterio, optimizer)"
   ]
  },
  {
   "cell_type": "code",
   "execution_count": 48,
   "metadata": {},
   "outputs": [
    {
     "name": "stdout",
     "output_type": "stream",
     "text": [
      "tensor([[0.0029, 0.0073],\n",
      "        [0.0030, 0.0073],\n",
      "        [0.0029, 0.0073],\n",
      "        [0.0029, 0.0073],\n",
      "        [0.0029, 0.0073],\n",
      "        [0.0034, 0.0063],\n",
      "        [0.0062, 0.0035],\n",
      "        [0.0029, 0.0073],\n",
      "        [0.0029, 0.0073],\n",
      "        [0.0029, 0.0073],\n",
      "        [0.0029, 0.0073],\n",
      "        [0.0029, 0.0073],\n",
      "        [0.0029, 0.0073],\n",
      "        [0.0029, 0.0073],\n",
      "        [0.0029, 0.0073],\n",
      "        [0.0029, 0.0073],\n",
      "        [0.0029, 0.0073],\n",
      "        [0.0029, 0.0073],\n",
      "        [0.0029, 0.0073],\n",
      "        [0.0029, 0.0073],\n",
      "        [0.0028, 0.0076],\n",
      "        [0.0029, 0.0074],\n",
      "        [0.0029, 0.0073],\n",
      "        [0.0028, 0.0076],\n",
      "        [0.0029, 0.0075],\n",
      "        [0.0029, 0.0075],\n",
      "        [0.0029, 0.0073],\n",
      "        [0.0029, 0.0073],\n",
      "        [0.0029, 0.0073],\n",
      "        [0.0029, 0.0073],\n",
      "        [0.0029, 0.0073],\n",
      "        [0.0029, 0.0073],\n",
      "        [0.0029, 0.0073],\n",
      "        [0.0029, 0.0073],\n",
      "        [0.0029, 0.0073],\n",
      "        [0.0029, 0.0073],\n",
      "        [0.0030, 0.0073],\n",
      "        [0.0029, 0.0073],\n",
      "        [0.0030, 0.0073],\n",
      "        [0.0029, 0.0073],\n",
      "        [0.0029, 0.0073],\n",
      "        [0.0030, 0.0072],\n",
      "        [0.0029, 0.0073],\n",
      "        [0.0030, 0.0073],\n",
      "        [0.0030, 0.0073],\n",
      "        [0.0030, 0.0073],\n",
      "        [0.0062, 0.0035],\n",
      "        [0.0062, 0.0035],\n",
      "        [0.0062, 0.0035],\n",
      "        [0.0062, 0.0035],\n",
      "        [0.0062, 0.0035],\n",
      "        [0.0062, 0.0035],\n",
      "        [0.0062, 0.0035],\n",
      "        [0.0062, 0.0035],\n",
      "        [0.0062, 0.0035],\n",
      "        [0.0062, 0.0035],\n",
      "        [0.0062, 0.0035],\n",
      "        [0.0062, 0.0035],\n",
      "        [0.0062, 0.0035],\n",
      "        [0.0062, 0.0035],\n",
      "        [0.0062, 0.0035],\n",
      "        [0.0062, 0.0035],\n",
      "        [0.0062, 0.0035],\n",
      "        [0.0062, 0.0035],\n",
      "        [0.0061, 0.0035],\n",
      "        [0.0061, 0.0035],\n",
      "        [0.0061, 0.0035],\n",
      "        [0.0061, 0.0035],\n",
      "        [0.0058, 0.0037],\n",
      "        [0.0059, 0.0036],\n",
      "        [0.0055, 0.0039],\n",
      "        [0.0047, 0.0045],\n",
      "        [0.0048, 0.0045],\n",
      "        [0.0038, 0.0056],\n",
      "        [0.0034, 0.0064],\n",
      "        [0.0035, 0.0061],\n",
      "        [0.0046, 0.0047],\n",
      "        [0.0032, 0.0068],\n",
      "        [0.0028, 0.0076],\n",
      "        [0.0025, 0.0085],\n",
      "        [0.0025, 0.0086],\n",
      "        [0.0025, 0.0086],\n",
      "        [0.0025, 0.0086],\n",
      "        [0.0025, 0.0085],\n",
      "        [0.0025, 0.0084],\n",
      "        [0.0025, 0.0084],\n",
      "        [0.0025, 0.0084],\n",
      "        [0.0025, 0.0084],\n",
      "        [0.0025, 0.0084],\n",
      "        [0.0025, 0.0084],\n",
      "        [0.0025, 0.0084],\n",
      "        [0.0026, 0.0084],\n",
      "        [0.0026, 0.0084],\n",
      "        [0.0026, 0.0084],\n",
      "        [0.0026, 0.0084],\n",
      "        [0.0026, 0.0084],\n",
      "        [0.0026, 0.0084],\n",
      "        [0.0026, 0.0083],\n",
      "        [0.0026, 0.0083],\n",
      "        [0.0026, 0.0083],\n",
      "        [0.0064, 0.0034],\n",
      "        [0.0029, 0.0073],\n",
      "        [0.0029, 0.0073],\n",
      "        [0.0059, 0.0036],\n",
      "        [0.0029, 0.0073],\n",
      "        [0.0029, 0.0073],\n",
      "        [0.0062, 0.0035],\n",
      "        [0.0063, 0.0034],\n",
      "        [0.0029, 0.0073],\n",
      "        [0.0064, 0.0034],\n",
      "        [0.0029, 0.0073],\n",
      "        [0.0062, 0.0035],\n",
      "        [0.0062, 0.0035],\n",
      "        [0.0064, 0.0034],\n",
      "        [0.0062, 0.0035],\n",
      "        [0.0062, 0.0035],\n",
      "        [0.0062, 0.0035],\n",
      "        [0.0062, 0.0035],\n",
      "        [0.0062, 0.0035],\n",
      "        [0.0062, 0.0035],\n",
      "        [0.0062, 0.0035],\n",
      "        [0.0062, 0.0035],\n",
      "        [0.0062, 0.0035],\n",
      "        [0.0062, 0.0035],\n",
      "        [0.0062, 0.0035],\n",
      "        [0.0062, 0.0035],\n",
      "        [0.0062, 0.0035],\n",
      "        [0.0062, 0.0035],\n",
      "        [0.0062, 0.0035],\n",
      "        [0.0062, 0.0035],\n",
      "        [0.0062, 0.0035],\n",
      "        [0.0062, 0.0035],\n",
      "        [0.0062, 0.0035],\n",
      "        [0.0062, 0.0035],\n",
      "        [0.0062, 0.0035],\n",
      "        [0.0062, 0.0035],\n",
      "        [0.0062, 0.0035],\n",
      "        [0.0062, 0.0035],\n",
      "        [0.0062, 0.0035],\n",
      "        [0.0062, 0.0035],\n",
      "        [0.0062, 0.0035],\n",
      "        [0.0062, 0.0035],\n",
      "        [0.0062, 0.0035],\n",
      "        [0.0067, 0.0032],\n",
      "        [0.0067, 0.0032],\n",
      "        [0.0067, 0.0032],\n",
      "        [0.0067, 0.0032],\n",
      "        [0.0067, 0.0032],\n",
      "        [0.0067, 0.0032],\n",
      "        [0.0067, 0.0032],\n",
      "        [0.0067, 0.0032],\n",
      "        [0.0067, 0.0032],\n",
      "        [0.0067, 0.0032],\n",
      "        [0.0067, 0.0032],\n",
      "        [0.0067, 0.0032],\n",
      "        [0.0067, 0.0032],\n",
      "        [0.0067, 0.0032],\n",
      "        [0.0067, 0.0032],\n",
      "        [0.0067, 0.0032],\n",
      "        [0.0067, 0.0032],\n",
      "        [0.0067, 0.0032],\n",
      "        [0.0067, 0.0032],\n",
      "        [0.0067, 0.0032],\n",
      "        [0.0067, 0.0032],\n",
      "        [0.0067, 0.0032],\n",
      "        [0.0067, 0.0032],\n",
      "        [0.0068, 0.0032],\n",
      "        [0.0068, 0.0032],\n",
      "        [0.0068, 0.0032],\n",
      "        [0.0068, 0.0032],\n",
      "        [0.0068, 0.0032],\n",
      "        [0.0068, 0.0032],\n",
      "        [0.0068, 0.0032],\n",
      "        [0.0068, 0.0032],\n",
      "        [0.0068, 0.0032],\n",
      "        [0.0068, 0.0032],\n",
      "        [0.0068, 0.0032],\n",
      "        [0.0068, 0.0032],\n",
      "        [0.0068, 0.0032],\n",
      "        [0.0068, 0.0032],\n",
      "        [0.0068, 0.0032],\n",
      "        [0.0068, 0.0032],\n",
      "        [0.0068, 0.0032],\n",
      "        [0.0068, 0.0032],\n",
      "        [0.0068, 0.0032],\n",
      "        [0.0068, 0.0032],\n",
      "        [0.0068, 0.0032],\n",
      "        [0.0068, 0.0032],\n",
      "        [0.0062, 0.0035],\n",
      "        [0.0062, 0.0035],\n",
      "        [0.0062, 0.0035],\n",
      "        [0.0062, 0.0035],\n",
      "        [0.0062, 0.0035],\n",
      "        [0.0062, 0.0035],\n",
      "        [0.0062, 0.0035],\n",
      "        [0.0062, 0.0035],\n",
      "        [0.0062, 0.0035],\n",
      "        [0.0062, 0.0035],\n",
      "        [0.0062, 0.0035],\n",
      "        [0.0061, 0.0035]], grad_fn=<SoftmaxBackward0>)\n"
     ]
    }
   ],
   "source": [
    "resultados_clasificacion = X2sY2sNet(X_X2sY2s)\n",
    "print(nn.functional.softmax(resultados_clasificacion,dim=0))"
   ]
  }
 ],
 "metadata": {
  "colab": {
   "collapsed_sections": [],
   "name": "PracticaMLP-IA.ipynb",
   "provenance": [],
   "version": "0.3.2"
  },
  "kernelspec": {
   "display_name": "Python 3",
   "language": "python",
   "name": "python3"
  },
  "language_info": {
   "codemirror_mode": {
    "name": "ipython",
    "version": 3
   },
   "file_extension": ".py",
   "mimetype": "text/x-python",
   "name": "python",
   "nbconvert_exporter": "python",
   "pygments_lexer": "ipython3",
   "version": "3.9.6"
  }
 },
 "nbformat": 4,
 "nbformat_minor": 1
}
